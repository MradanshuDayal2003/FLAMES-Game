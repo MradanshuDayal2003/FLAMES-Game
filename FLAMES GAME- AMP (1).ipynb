{
 "cells": [
  {
   "cell_type": "markdown",
   "id": "7bd249d4",
   "metadata": {},
   "source": [
    "# Flames Game "
   ]
  },
  {
   "cell_type": "markdown",
   "id": "c4a5a97e",
   "metadata": {},
   "source": [
    "###### Anik Mukherjee, Mradanshu Dayal & Pushkar Pal"
   ]
  },
  {
   "cell_type": "code",
   "execution_count": null,
   "id": "1d1e8765",
   "metadata": {},
   "outputs": [],
   "source": [
    "def Flames(name1,name2):\n",
    "    namestr = name1 + name2\n",
    "\n",
    "    for c in namestr:\n",
    "        if namestr.count(c) != 1:\n",
    "            # counting common letters\n",
    "            namestr = namestr.replace(c,\"\")\n",
    "\n",
    "    # The common letters are replaced by blankspace therefore namestr has only remaining letters\n",
    "\n",
    "    print(\"FLAMES....\")\n",
    "    print(\"F = Friend \\nL = Love \\nA = Affection \\nM = Marriage \\nE = Enemy \\nS = Siblings \\n\\n\")\n",
    "    \n",
    "\n",
    "    number = len(namestr) % 6\n",
    "    # number to move through FLAMES\n",
    "    rel = \"\"\n",
    "\n",
    "    if number == 1:\n",
    "        rel += \"Friends\"\n",
    "    elif number == 2:\n",
    "        rel += \"Love\"\n",
    "    elif number == 3:\n",
    "        rel += \"Affection\"\n",
    "    elif number == 4:\n",
    "        rel += \"Marriage\"\n",
    "    elif number == 5:\n",
    "        rel += \"Enemy\"\n",
    "    elif number == 0:\n",
    "        rel += \"Siblings\"\n",
    "    else:\n",
    "        pass\n",
    "\n",
    "    return rel\n",
    "\n",
    "n1 = input(\"Enter your name : \").upper()\n",
    "n2 = input(\"Enter name of your crush : \").upper()\n",
    "print(f\"Your Relationship is : {Flames(n1,n2)}\")"
   ]
  }
 ],
 "metadata": {
  "kernelspec": {
   "display_name": "Python 3 (ipykernel)",
   "language": "python",
   "name": "python3"
  },
  "language_info": {
   "codemirror_mode": {
    "name": "ipython",
    "version": 3
   },
   "file_extension": ".py",
   "mimetype": "text/x-python",
   "name": "python",
   "nbconvert_exporter": "python",
   "pygments_lexer": "ipython3",
   "version": "3.9.7"
  }
 },
 "nbformat": 4,
 "nbformat_minor": 5
}
